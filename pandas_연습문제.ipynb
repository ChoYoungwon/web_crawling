{
 "cells": [
  {
   "cell_type": "code",
   "id": "initial_id",
   "metadata": {
    "collapsed": true,
    "ExecuteTime": {
     "end_time": "2024-11-09T02:54:03.297250Z",
     "start_time": "2024-11-09T02:54:03.263332Z"
    }
   },
   "source": [
    "import pandas as pd\n",
    "\n",
    "data1 = pd.read_csv('./실습용 파일/부품구입대장_전체.csv', encoding='cp949')\n",
    "data1.head()"
   ],
   "outputs": [
    {
     "data": {
      "text/plain": [
       "         신청날짜 사업장     품목코드          품목  수량     단가       금액\n",
       "0  2019-08-23  석수  MF4-215       ANGLE  21  32000   672000\n",
       "1  2019-09-09  석수  MF8-547          백관  44  56000  2464000\n",
       "2  2019-06-18  석수  MF1-966         절연판  40  45000  1800000\n",
       "3  2019-03-13  석수  MF6-543  P/Z O-RING  11  38000   418000\n",
       "4  2019-05-11  석수  MF2-887         알코올  38   8000   304000"
      ],
      "text/html": [
       "<div>\n",
       "<style scoped>\n",
       "    .dataframe tbody tr th:only-of-type {\n",
       "        vertical-align: middle;\n",
       "    }\n",
       "\n",
       "    .dataframe tbody tr th {\n",
       "        vertical-align: top;\n",
       "    }\n",
       "\n",
       "    .dataframe thead th {\n",
       "        text-align: right;\n",
       "    }\n",
       "</style>\n",
       "<table border=\"1\" class=\"dataframe\">\n",
       "  <thead>\n",
       "    <tr style=\"text-align: right;\">\n",
       "      <th></th>\n",
       "      <th>신청날짜</th>\n",
       "      <th>사업장</th>\n",
       "      <th>품목코드</th>\n",
       "      <th>품목</th>\n",
       "      <th>수량</th>\n",
       "      <th>단가</th>\n",
       "      <th>금액</th>\n",
       "    </tr>\n",
       "  </thead>\n",
       "  <tbody>\n",
       "    <tr>\n",
       "      <th>0</th>\n",
       "      <td>2019-08-23</td>\n",
       "      <td>석수</td>\n",
       "      <td>MF4-215</td>\n",
       "      <td>ANGLE</td>\n",
       "      <td>21</td>\n",
       "      <td>32000</td>\n",
       "      <td>672000</td>\n",
       "    </tr>\n",
       "    <tr>\n",
       "      <th>1</th>\n",
       "      <td>2019-09-09</td>\n",
       "      <td>석수</td>\n",
       "      <td>MF8-547</td>\n",
       "      <td>백관</td>\n",
       "      <td>44</td>\n",
       "      <td>56000</td>\n",
       "      <td>2464000</td>\n",
       "    </tr>\n",
       "    <tr>\n",
       "      <th>2</th>\n",
       "      <td>2019-06-18</td>\n",
       "      <td>석수</td>\n",
       "      <td>MF1-966</td>\n",
       "      <td>절연판</td>\n",
       "      <td>40</td>\n",
       "      <td>45000</td>\n",
       "      <td>1800000</td>\n",
       "    </tr>\n",
       "    <tr>\n",
       "      <th>3</th>\n",
       "      <td>2019-03-13</td>\n",
       "      <td>석수</td>\n",
       "      <td>MF6-543</td>\n",
       "      <td>P/Z O-RING</td>\n",
       "      <td>11</td>\n",
       "      <td>38000</td>\n",
       "      <td>418000</td>\n",
       "    </tr>\n",
       "    <tr>\n",
       "      <th>4</th>\n",
       "      <td>2019-05-11</td>\n",
       "      <td>석수</td>\n",
       "      <td>MF2-887</td>\n",
       "      <td>알코올</td>\n",
       "      <td>38</td>\n",
       "      <td>8000</td>\n",
       "      <td>304000</td>\n",
       "    </tr>\n",
       "  </tbody>\n",
       "</table>\n",
       "</div>"
      ]
     },
     "execution_count": 3,
     "metadata": {},
     "output_type": "execute_result"
    }
   ],
   "execution_count": 3
  },
  {
   "metadata": {
    "ExecuteTime": {
     "end_time": "2024-11-09T02:54:19.573738Z",
     "start_time": "2024-11-09T02:54:19.567733Z"
    }
   },
   "cell_type": "code",
   "source": "data1.shape",
   "id": "bd7d8e4c01d0e53e",
   "outputs": [
    {
     "data": {
      "text/plain": [
       "(3999, 7)"
      ]
     },
     "execution_count": 5,
     "metadata": {},
     "output_type": "execute_result"
    }
   ],
   "execution_count": 5
  },
  {
   "metadata": {
    "ExecuteTime": {
     "end_time": "2024-11-09T02:54:34.410785Z",
     "start_time": "2024-11-09T02:54:34.392835Z"
    }
   },
   "cell_type": "code",
   "source": "data1.columns",
   "id": "fc205633459ee0db",
   "outputs": [
    {
     "data": {
      "text/plain": [
       "Index(['신청날짜', '사업장', '품목코드', '품목', '수량', '단가', '금액'], dtype='object')"
      ]
     },
     "execution_count": 6,
     "metadata": {},
     "output_type": "execute_result"
    }
   ],
   "execution_count": 6
  },
  {
   "metadata": {},
   "cell_type": "code",
   "outputs": [],
   "execution_count": null,
   "source": "data1.loc[(data1)]",
   "id": "41f4b321ac78506a"
  }
 ],
 "metadata": {
  "kernelspec": {
   "display_name": "Python 3",
   "language": "python",
   "name": "python3"
  },
  "language_info": {
   "codemirror_mode": {
    "name": "ipython",
    "version": 2
   },
   "file_extension": ".py",
   "mimetype": "text/x-python",
   "name": "python",
   "nbconvert_exporter": "python",
   "pygments_lexer": "ipython2",
   "version": "2.7.6"
  }
 },
 "nbformat": 4,
 "nbformat_minor": 5
}
