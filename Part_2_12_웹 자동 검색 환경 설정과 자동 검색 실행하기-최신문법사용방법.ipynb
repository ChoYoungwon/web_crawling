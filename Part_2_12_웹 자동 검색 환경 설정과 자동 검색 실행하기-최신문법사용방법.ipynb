{
 "cells": [
  {
   "cell_type": "code",
   "metadata": {
    "scrolled": false,
    "ExecuteTime": {
     "end_time": "2024-11-09T06:19:05.208082Z",
     "start_time": "2024-11-09T06:18:36.131558Z"
    }
   },
   "source": [
    "#Chap 12. riss.kr 사이트에서 특정 키워드로 자동 검색하기\n",
    "\n",
    "#Step 1. 필요한 모듈을 로딩합니다\n",
    "from selenium import webdriver\n",
    "from selenium.webdriver.common.by import By\n",
    "from selenium.webdriver.common.keys import Keys\n",
    "from selenium.webdriver.chrome.service import Service\n",
    "import time          \n",
    "\n",
    "#Step 2. 사용자에게 검색 관련 정보들을 입력 받습니다.\n",
    "print(\"=\" *100)\n",
    "print(\" 이 크롤러는 riss 사이트의 논문 자료 수집용 웹크롤러입니다.\")\n",
    "print(\"=\" *100)\n",
    "query_txt = input('1.수집할 자료의 키워드는 무엇입니까?(예: 해양자원): ')\n",
    "print(\"\\n\")\n",
    "\n",
    "# Step 3. 크롬 드라이버 설정 및 웹 페이지 열기 (중요)\n",
    "# 크롬 드라이버 설정하는 최신 문법\n",
    "s = Service(\"./chromedriver.exe\")\n",
    "driver = webdriver.Chrome(service=s)\n",
    "\n",
    "url = 'https://www.riss.kr/'\n",
    "\n",
    "driver.get(url)                     # 해당 url에 접속\n",
    "time.sleep(5)                       # 페이지가 열리기 전까지 기다리는 명령\n",
    "driver.maximize_window()            # 창을 전체 창으로 확대\n",
    "\n",
    "# Step 4. 자동으로 검색어 입력 후 조회하기\n",
    "element = driver.find_element(By.ID,'query')\n",
    "driver.find_element(By.ID,'query').click( )\n",
    "element.send_keys(query_txt)\n",
    "element.send_keys(\"\\n\")"
   ],
   "outputs": [
    {
     "name": "stdout",
     "output_type": "stream",
     "text": [
      "====================================================================================================\n",
      " 이 크롤러는 riss 사이트의 논문 자료 수집용 웹크롤러입니다.\n",
      "====================================================================================================\n",
      "\n",
      "\n"
     ]
    }
   ],
   "execution_count": 1
  },
  {
   "cell_type": "code",
   "metadata": {
    "ExecuteTime": {
     "end_time": "2024-11-09T06:27:38.000834Z",
     "start_time": "2024-11-09T06:27:16.575036Z"
    }
   },
   "source": [
    "# 1. 네이버 사이트 검색하기\n",
    "from selenium import webdriver\n",
    "from selenium.webdriver.common.by import By\n",
    "from selenium.webdriver.common.keys import Keys\n",
    "from selenium.webdriver.chrome.service import Service\n",
    "import time\n",
    "\n",
    "print(\"=\" *100)\n",
    "print(\"네이버 창 검색용 웹크롤러\")\n",
    "print(\"=\" *100)\n",
    "query_txt = input('검색할 것 입력 : ')\n",
    "print(\"\\n\")\n",
    "\n",
    "# Step 3. 크롬 드라이버 설정 및 웹 페이지 열기 (중요)\n",
    "s = Service(\"./chromedriver.exe\")\n",
    "driver = webdriver.Chrome(service=s)\n",
    "\n",
    "url = 'https://www.naver.com'\n",
    "\n",
    "driver.get(url)\n",
    "time.sleep(5)\n",
    "driver.maximize_window()\n",
    "\n",
    "# Step 4. 자동으로 검색어 입력 후 조회하기\n",
    "element = driver.find_element(By.ID, 'query')\n",
    "element.click()\n",
    "element.send_keys(query_txt)\n",
    "element.send_keys(\"\\n\")"
   ],
   "outputs": [
    {
     "name": "stdout",
     "output_type": "stream",
     "text": [
      "====================================================================================================\n",
      "네이버 창 검색용 웹크롤러\n",
      "====================================================================================================\n",
      "\n",
      "\n"
     ]
    }
   ],
   "execution_count": 2
  },
  {
   "cell_type": "code",
   "metadata": {
    "ExecuteTime": {
     "end_time": "2024-11-09T06:30:47.316489Z",
     "start_time": "2024-11-09T06:30:29.764363Z"
    }
   },
   "source": [
    "# 다음 사이트 검색하기\n",
    "from selenium import webdriver\n",
    "from selenium.webdriver.common.by import By\n",
    "from selenium.webdriver.common.keys import Keys\n",
    "from selenium.webdriver.chrome.service import Service\n",
    "import time\n",
    "\n",
    "print(\"=\" *100)\n",
    "print(\"다음 창 검색용 웹크롤러\")\n",
    "print(\"=\" *100)\n",
    "query_txt = input('검색할 것 입력 : ')\n",
    "print(\"\\n\")\n",
    "\n",
    "s = Service(\"./chromedriver.exe\")\n",
    "driver = webdriver.Chrome(service=s)\n",
    "\n",
    "url = 'https://www.daum.net'\n",
    "\n",
    "driver.get(url)\n",
    "time.sleep(5)\n",
    "driver.maximize_window()\n",
    "\n",
    "# Step 4. 자동으로 검색어 입력 후 조회하기\n",
    "element = driver.find_element(By.ID, 'q')\n",
    "element.click()\n",
    "element.send_keys(query_txt)\n",
    "element.send_keys(\"\\n\")"
   ],
   "outputs": [
    {
     "name": "stdout",
     "output_type": "stream",
     "text": [
      "====================================================================================================\n",
      "네이버 창 검색용 웹크롤러\n",
      "====================================================================================================\n",
      "\n",
      "\n"
     ]
    }
   ],
   "execution_count": 5
  },
  {
   "metadata": {
    "ExecuteTime": {
     "end_time": "2024-11-09T06:33:27.913238Z",
     "start_time": "2024-11-09T06:33:14.048509Z"
    }
   },
   "cell_type": "code",
   "source": [
    "# 구글 사이트 검색하기\n",
    "from selenium import webdriver\n",
    "from selenium.webdriver.common.by import By\n",
    "from selenium.webdriver.common.keys import Keys\n",
    "from selenium.webdriver.chrome.service import Service\n",
    "import time\n",
    "\n",
    "print(\"=\" *100)\n",
    "print(\"구글 창 검색용 웹크롤러\")\n",
    "print(\"=\" *100)\n",
    "query_txt = input('검색할 것 입력 : ')\n",
    "print(\"\\n\")\n",
    "\n",
    "s = Service(\"./chromedriver.exe\")\n",
    "driver = webdriver.Chrome(service=s)\n",
    "\n",
    "url = 'https://www.google.com'\n",
    "\n",
    "driver.get(url)\n",
    "time.sleep(5)\n",
    "driver.maximize_window()\n",
    "\n",
    "# Step 4. 자동으로 검색어 입력 후 조회하기\n",
    "element = driver.find_element(By.NAME, 'q')\n",
    "element.click()\n",
    "element.send_keys(query_txt)\n",
    "element.send_keys(\"\\n\")"
   ],
   "outputs": [
    {
     "name": "stdout",
     "output_type": "stream",
     "text": [
      "====================================================================================================\n",
      "구글 창 검색용 웹크롤러\n",
      "====================================================================================================\n",
      "\n",
      "\n"
     ]
    }
   ],
   "execution_count": 7
  },
  {
   "metadata": {
    "ExecuteTime": {
     "end_time": "2024-11-09T07:12:08.026314Z",
     "start_time": "2024-11-09T07:11:57.173087Z"
    }
   },
   "cell_type": "code",
   "source": [
    "# 대한민국 구석구석 사이트 검색하기\n",
    "from selenium import webdriver\n",
    "from selenium.webdriver.common.by import By\n",
    "from selenium.webdriver.common.keys import Keys\n",
    "from selenium.webdriver.chrome.service import Service\n",
    "import time\n",
    "\n",
    "print(\"=\" *100)\n",
    "print(\"구석구석 창 검색용 웹크롤러\")\n",
    "print(\"=\" *100)\n",
    "query_txt = input('검색할 것 입력 : ')\n",
    "print(\"\\n\")\n",
    "\n",
    "s = Service(\"./chromedriver.exe\")\n",
    "driver = webdriver.Chrome(service=s)\n",
    "\n",
    "url = 'https://korean.visitkorea.or.kr/'\n",
    "\n",
    "driver.get(url)\n",
    "time.sleep(5)\n",
    "driver.maximize_window()\n",
    "\n",
    "# Step 4. 자동으로 검색어 입력 후 조회하기\n",
    "# 돋보기 버튼 클릭\n",
    "element = driver.find_element(By.XPATH, '//*[@id=\"inp_search\"]')\n",
    "element.click()\n",
    "time.sleep(8)\n",
    "\n",
    "element = driver.find_element(By.ID, 'searchAdd')\n",
    "element.click()\n",
    "\n",
    "element.send_keys(query_txt)\n",
    "element.send_keys(\"\\n\")"
   ],
   "outputs": [
    {
     "name": "stdout",
     "output_type": "stream",
     "text": [
      "====================================================================================================\n",
      "구석구석 창 검색용 웹크롤러\n",
      "====================================================================================================\n",
      "\n",
      "\n"
     ]
    },
    {
     "ename": "NoSuchElementException",
     "evalue": "Message: no such element: Unable to locate element: {\"method\":\"xpath\",\"selector\":\"//*[@id=\"inp_search\"]\"}\n  (Session info: chrome=130.0.6723.117); For documentation on this error, please visit: https://www.selenium.dev/documentation/webdriver/troubleshooting/errors#no-such-element-exception\nStacktrace:\n\tGetHandleVerifier [0x00007FF75DC338A5+3004357]\n\t(No symbol) [0x00007FF75D8C9970]\n\t(No symbol) [0x00007FF75D77582A]\n\t(No symbol) [0x00007FF75D7C5B8E]\n\t(No symbol) [0x00007FF75D7C5E7C]\n\t(No symbol) [0x00007FF75D80EC27]\n\t(No symbol) [0x00007FF75D7EBC1F]\n\t(No symbol) [0x00007FF75D80BA4C]\n\t(No symbol) [0x00007FF75D7EB983]\n\t(No symbol) [0x00007FF75D7B7628]\n\t(No symbol) [0x00007FF75D7B8791]\n\tGetHandleVerifier [0x00007FF75DC5A00D+3161901]\n\tGetHandleVerifier [0x00007FF75DCAE060+3506048]\n\tGetHandleVerifier [0x00007FF75DCA400D+3465005]\n\tGetHandleVerifier [0x00007FF75DA20EEB+830987]\n\t(No symbol) [0x00007FF75D8D467F]\n\t(No symbol) [0x00007FF75D8D09D4]\n\t(No symbol) [0x00007FF75D8D0B6D]\n\t(No symbol) [0x00007FF75D8C0149]\n\tBaseThreadInitThunk [0x00007FFFFA3F257D+29]\n\tRtlUserThreadStart [0x00007FFFFC40AF28+40]\n",
     "output_type": "error",
     "traceback": [
      "\u001B[1;31m---------------------------------------------------------------------------\u001B[0m",
      "\u001B[1;31mNoSuchElementException\u001B[0m                    Traceback (most recent call last)",
      "Cell \u001B[1;32mIn[16], line 25\u001B[0m\n\u001B[0;32m     21\u001B[0m driver\u001B[38;5;241m.\u001B[39mmaximize_window()\n\u001B[0;32m     23\u001B[0m \u001B[38;5;66;03m# Step 4. 자동으로 검색어 입력 후 조회하기\u001B[39;00m\n\u001B[0;32m     24\u001B[0m \u001B[38;5;66;03m# 돋보기 버튼 클릭\u001B[39;00m\n\u001B[1;32m---> 25\u001B[0m element \u001B[38;5;241m=\u001B[39m \u001B[43mdriver\u001B[49m\u001B[38;5;241;43m.\u001B[39;49m\u001B[43mfind_element\u001B[49m\u001B[43m(\u001B[49m\u001B[43mBy\u001B[49m\u001B[38;5;241;43m.\u001B[39;49m\u001B[43mXPATH\u001B[49m\u001B[43m,\u001B[49m\u001B[43m \u001B[49m\u001B[38;5;124;43m'\u001B[39;49m\u001B[38;5;124;43m//*[@id=\u001B[39;49m\u001B[38;5;124;43m\"\u001B[39;49m\u001B[38;5;124;43minp_search\u001B[39;49m\u001B[38;5;124;43m\"\u001B[39;49m\u001B[38;5;124;43m]\u001B[39;49m\u001B[38;5;124;43m'\u001B[39;49m\u001B[43m)\u001B[49m\n\u001B[0;32m     26\u001B[0m element\u001B[38;5;241m.\u001B[39mclick()\n\u001B[0;32m     27\u001B[0m time\u001B[38;5;241m.\u001B[39msleep(\u001B[38;5;241m8\u001B[39m)\n",
      "File \u001B[1;32m~\\anaconda3\\envs\\ai\\lib\\site-packages\\selenium\\webdriver\\remote\\webdriver.py:766\u001B[0m, in \u001B[0;36mWebDriver.find_element\u001B[1;34m(self, by, value)\u001B[0m\n\u001B[0;32m    763\u001B[0m         \u001B[38;5;28;01mraise\u001B[39;00m NoSuchElementException(\u001B[38;5;124mf\u001B[39m\u001B[38;5;124m\"\u001B[39m\u001B[38;5;124mCannot locate relative element with: \u001B[39m\u001B[38;5;132;01m{\u001B[39;00mby\u001B[38;5;241m.\u001B[39mroot\u001B[38;5;132;01m}\u001B[39;00m\u001B[38;5;124m\"\u001B[39m)\n\u001B[0;32m    764\u001B[0m     \u001B[38;5;28;01mreturn\u001B[39;00m elements[\u001B[38;5;241m0\u001B[39m]\n\u001B[1;32m--> 766\u001B[0m \u001B[38;5;28;01mreturn\u001B[39;00m \u001B[38;5;28;43mself\u001B[39;49m\u001B[38;5;241;43m.\u001B[39;49m\u001B[43mexecute\u001B[49m\u001B[43m(\u001B[49m\u001B[43mCommand\u001B[49m\u001B[38;5;241;43m.\u001B[39;49m\u001B[43mFIND_ELEMENT\u001B[49m\u001B[43m,\u001B[49m\u001B[43m \u001B[49m\u001B[43m{\u001B[49m\u001B[38;5;124;43m\"\u001B[39;49m\u001B[38;5;124;43musing\u001B[39;49m\u001B[38;5;124;43m\"\u001B[39;49m\u001B[43m:\u001B[49m\u001B[43m \u001B[49m\u001B[43mby\u001B[49m\u001B[43m,\u001B[49m\u001B[43m \u001B[49m\u001B[38;5;124;43m\"\u001B[39;49m\u001B[38;5;124;43mvalue\u001B[39;49m\u001B[38;5;124;43m\"\u001B[39;49m\u001B[43m:\u001B[49m\u001B[43m \u001B[49m\u001B[43mvalue\u001B[49m\u001B[43m}\u001B[49m\u001B[43m)\u001B[49m[\u001B[38;5;124m\"\u001B[39m\u001B[38;5;124mvalue\u001B[39m\u001B[38;5;124m\"\u001B[39m]\n",
      "File \u001B[1;32m~\\anaconda3\\envs\\ai\\lib\\site-packages\\selenium\\webdriver\\remote\\webdriver.py:380\u001B[0m, in \u001B[0;36mWebDriver.execute\u001B[1;34m(self, driver_command, params)\u001B[0m\n\u001B[0;32m    378\u001B[0m response \u001B[38;5;241m=\u001B[39m \u001B[38;5;28mself\u001B[39m\u001B[38;5;241m.\u001B[39mcommand_executor\u001B[38;5;241m.\u001B[39mexecute(driver_command, params)\n\u001B[0;32m    379\u001B[0m \u001B[38;5;28;01mif\u001B[39;00m response:\n\u001B[1;32m--> 380\u001B[0m     \u001B[38;5;28;43mself\u001B[39;49m\u001B[38;5;241;43m.\u001B[39;49m\u001B[43merror_handler\u001B[49m\u001B[38;5;241;43m.\u001B[39;49m\u001B[43mcheck_response\u001B[49m\u001B[43m(\u001B[49m\u001B[43mresponse\u001B[49m\u001B[43m)\u001B[49m\n\u001B[0;32m    381\u001B[0m     response[\u001B[38;5;124m\"\u001B[39m\u001B[38;5;124mvalue\u001B[39m\u001B[38;5;124m\"\u001B[39m] \u001B[38;5;241m=\u001B[39m \u001B[38;5;28mself\u001B[39m\u001B[38;5;241m.\u001B[39m_unwrap_value(response\u001B[38;5;241m.\u001B[39mget(\u001B[38;5;124m\"\u001B[39m\u001B[38;5;124mvalue\u001B[39m\u001B[38;5;124m\"\u001B[39m, \u001B[38;5;28;01mNone\u001B[39;00m))\n\u001B[0;32m    382\u001B[0m     \u001B[38;5;28;01mreturn\u001B[39;00m response\n",
      "File \u001B[1;32m~\\anaconda3\\envs\\ai\\lib\\site-packages\\selenium\\webdriver\\remote\\errorhandler.py:229\u001B[0m, in \u001B[0;36mErrorHandler.check_response\u001B[1;34m(self, response)\u001B[0m\n\u001B[0;32m    227\u001B[0m         alert_text \u001B[38;5;241m=\u001B[39m value[\u001B[38;5;124m\"\u001B[39m\u001B[38;5;124malert\u001B[39m\u001B[38;5;124m\"\u001B[39m]\u001B[38;5;241m.\u001B[39mget(\u001B[38;5;124m\"\u001B[39m\u001B[38;5;124mtext\u001B[39m\u001B[38;5;124m\"\u001B[39m)\n\u001B[0;32m    228\u001B[0m     \u001B[38;5;28;01mraise\u001B[39;00m exception_class(message, screen, stacktrace, alert_text)  \u001B[38;5;66;03m# type: ignore[call-arg]  # mypy is not smart enough here\u001B[39;00m\n\u001B[1;32m--> 229\u001B[0m \u001B[38;5;28;01mraise\u001B[39;00m exception_class(message, screen, stacktrace)\n",
      "\u001B[1;31mNoSuchElementException\u001B[0m: Message: no such element: Unable to locate element: {\"method\":\"xpath\",\"selector\":\"//*[@id=\"inp_search\"]\"}\n  (Session info: chrome=130.0.6723.117); For documentation on this error, please visit: https://www.selenium.dev/documentation/webdriver/troubleshooting/errors#no-such-element-exception\nStacktrace:\n\tGetHandleVerifier [0x00007FF75DC338A5+3004357]\n\t(No symbol) [0x00007FF75D8C9970]\n\t(No symbol) [0x00007FF75D77582A]\n\t(No symbol) [0x00007FF75D7C5B8E]\n\t(No symbol) [0x00007FF75D7C5E7C]\n\t(No symbol) [0x00007FF75D80EC27]\n\t(No symbol) [0x00007FF75D7EBC1F]\n\t(No symbol) [0x00007FF75D80BA4C]\n\t(No symbol) [0x00007FF75D7EB983]\n\t(No symbol) [0x00007FF75D7B7628]\n\t(No symbol) [0x00007FF75D7B8791]\n\tGetHandleVerifier [0x00007FF75DC5A00D+3161901]\n\tGetHandleVerifier [0x00007FF75DCAE060+3506048]\n\tGetHandleVerifier [0x00007FF75DCA400D+3465005]\n\tGetHandleVerifier [0x00007FF75DA20EEB+830987]\n\t(No symbol) [0x00007FF75D8D467F]\n\t(No symbol) [0x00007FF75D8D09D4]\n\t(No symbol) [0x00007FF75D8D0B6D]\n\t(No symbol) [0x00007FF75D8C0149]\n\tBaseThreadInitThunk [0x00007FFFFA3F257D+29]\n\tRtlUserThreadStart [0x00007FFFFC40AF28+40]\n"
     ]
    }
   ],
   "execution_count": 16
  },
  {
   "metadata": {
    "ExecuteTime": {
     "end_time": "2024-11-09T06:54:59.496760Z",
     "start_time": "2024-11-09T06:54:36.983914Z"
    }
   },
   "cell_type": "code",
   "source": [
    "# 가천대학교 사이트 검색하기\n",
    "from selenium import webdriver\n",
    "from selenium.webdriver.common.by import By\n",
    "from selenium.webdriver.common.keys import Keys\n",
    "from selenium.webdriver.chrome.service import Service\n",
    "import time\n",
    "\n",
    "print(\"=\" *100)\n",
    "print(\"가천대학교 창 검색용 웹크롤러\")\n",
    "print(\"=\" *100)\n",
    "query_txt = input('검색할 것 입력 : ')\n",
    "print(\"\\n\")\n",
    "\n",
    "# Step 3. 크롬 드라이버 설정 및 웹 페이지 열기 (중요)\n",
    "s = Service(\"./chromedriver.exe\")\n",
    "driver = webdriver.Chrome(service=s)\n",
    "url = 'https://www.gachon.ac.kr/'\n",
    "\n",
    "driver.get(url)\n",
    "time.sleep(5)\n",
    "driver.maximize_window()\n",
    "\n",
    "# Step 4. 자동으로 검색어 입력 후 조회하기\n",
    "element = driver.find_element(By.CLASS_NAME, 'search-btn')\n",
    "element.click()\n",
    "time.sleep(5)\n",
    "element = driver.find_element(By.ID, 'qt')\n",
    "element.click()\n",
    "element.send_keys(query_txt)\n",
    "element.send_keys(\"\\n\")"
   ],
   "outputs": [
    {
     "name": "stdout",
     "output_type": "stream",
     "text": [
      "====================================================================================================\n",
      "가천대학교 창 검색용 웹크롤러\n",
      "====================================================================================================\n",
      "\n",
      "\n"
     ]
    }
   ],
   "execution_count": 11
  },
  {
   "metadata": {
    "ExecuteTime": {
     "end_time": "2024-11-09T07:23:28.756132Z",
     "start_time": "2024-11-09T07:23:12.351686Z"
    }
   },
   "cell_type": "code",
   "source": [
    "# 서울대학교 사이트 검색하기\n",
    "from selenium import webdriver\n",
    "from selenium.webdriver.common.by import By\n",
    "from selenium.webdriver.common.keys import Keys\n",
    "from selenium.webdriver.chrome.service import Service\n",
    "import time\n",
    "\n",
    "print(\"=\" *100)\n",
    "print(\"서울대학교 창 검색용 웹크롤러\")\n",
    "print(\"=\" *100)\n",
    "query_txt = input('검색할 것 입력 : ')\n",
    "print(\"\\n\")\n",
    "\n",
    "# Step 3. 크롬 드라이버 설정 및 웹 페이지 열기 (중요)\n",
    "s = Service(\"./chromedriver.exe\")\n",
    "driver = webdriver.Chrome(service=s)\n",
    "url = 'https://www.snu.ac.kr/'\n",
    "\n",
    "driver.get(url)\n",
    "time.sleep(5)\n",
    "driver.maximize_window()\n",
    "\n",
    "# Step 4. 자동으로 검색어 입력 후 조회하기\n",
    "element = driver.find_element(By.XPATH, '/html/body/header/div/div/div/div[1]/div/div[1]/a/img')\n",
    "element.click()\n",
    "time.sleep(5)\n",
    "\n",
    "element = driver.find_element(By.ID, 'search2')\n",
    "element.click()\n",
    "element.send_keys(query_txt)\n",
    "element.send_keys(\"\\n\")\n"
   ],
   "outputs": [
    {
     "name": "stdout",
     "output_type": "stream",
     "text": [
      "====================================================================================================\n",
      "서울대학교 창 검색용 웹크롤러\n",
      "====================================================================================================\n",
      "\n",
      "\n"
     ]
    }
   ],
   "execution_count": 20
  },
  {
   "metadata": {},
   "cell_type": "code",
   "outputs": [],
   "execution_count": null,
   "source": ""
  }
 ],
 "metadata": {
  "kernelspec": {
   "display_name": "Python 3 (ipykernel)",
   "language": "python",
   "name": "python3"
  },
  "language_info": {
   "codemirror_mode": {
    "name": "ipython",
    "version": 3
   },
   "file_extension": ".py",
   "mimetype": "text/x-python",
   "name": "python",
   "nbconvert_exporter": "python",
   "pygments_lexer": "ipython3",
   "version": "3.9.5"
  }
 },
 "nbformat": 4,
 "nbformat_minor": 2
}
