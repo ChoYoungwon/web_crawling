{
 "cells": [
  {
   "cell_type": "code",
   "metadata": {
    "ExecuteTime": {
     "end_time": "2024-11-09T07:40:33.057897Z",
     "start_time": "2024-11-09T07:40:32.923943Z"
    }
   },
   "source": [
    "#Beautiful Soup 예제 1\n",
    "from bs4 import BeautifulSoup\n",
    "ex1 = '''\n",
    "<html>\n",
    "    <head>\n",
    "        <title> HTML 연습 </title>\n",
    "    </head>\n",
    "    <body>\n",
    "        <p align=\"center\"> text 1 </p>\n",
    "        <img src=\"c:\\\\temp\\\\image\\\\솔개.png\">\n",
    "    </body>\n",
    "<html> '''\n",
    "\n",
    "soup = BeautifulSoup(ex1, 'html.parser')\n",
    "print( soup.find('title') )\n",
    "print( soup.find('p') )"
   ],
   "outputs": [
    {
     "name": "stdout",
     "output_type": "stream",
     "text": [
      "<title> HTML 연습 </title>\n",
      "<p align=\"center\"> text 1 </p>\n"
     ]
    }
   ],
   "execution_count": 1
  },
  {
   "cell_type": "code",
   "metadata": {
    "ExecuteTime": {
     "end_time": "2024-11-09T07:40:41.650337Z",
     "start_time": "2024-11-09T07:40:41.639906Z"
    }
   },
   "source": [
    "#Beautiful Soup 예제 2\n",
    "from bs4 import BeautifulSoup\n",
    "ex1 = '''\n",
    "<html>\n",
    "    <head>\n",
    "        <title> HTML 연습 </title>\n",
    "    </head>\n",
    "    <body>\n",
    "        <p align=\"center\"> text 1 </p>\n",
    "        <p align=\"right\"> text 2 </p>\n",
    "        <p align=\"left\"> text 3 </p>\n",
    "        <img src=\"c:\\\\temp\\\\image\\\\솔개.png\">\n",
    "    </body>\n",
    "<html> '''\n",
    "\n",
    "soup = BeautifulSoup(ex1, 'html.parser')\n",
    "print( soup.find('p') )\n",
    "print( soup.find('p',align=\"right\") )"
   ],
   "outputs": [
    {
     "name": "stdout",
     "output_type": "stream",
     "text": [
      "<p align=\"center\"> text 1 </p>\n",
      "<p align=\"right\"> text 2 </p>\n"
     ]
    }
   ],
   "execution_count": 2
  },
  {
   "cell_type": "code",
   "execution_count": 3,
   "metadata": {},
   "outputs": [
    {
     "name": "stdout",
     "output_type": "stream",
     "text": [
      "<p align=\"center\"> text 1 </p>\n"
     ]
    }
   ],
   "source": [
    "#Beautiful Soup 예제 3\n",
    "from bs4 import BeautifulSoup\n",
    "ex1 = '''\n",
    "<html>\n",
    "    <head>\n",
    "        <title> HTML 연습 </title>\n",
    "    </head>\n",
    "    <body>\n",
    "        <p align=\"center\"> text 1 </p>\n",
    "        <p align=\"center\"> text 2 </p>\n",
    "        <p align=\"center\"> text 3 </p>\n",
    "        <img src=\"c:\\\\temp\\\\image\\\\솔개.png\">\n",
    "    </body>\n",
    "<html> '''\n",
    "\n",
    "soup = BeautifulSoup(ex1, 'html.parser')\n",
    "print( soup.find('p') )"
   ]
  },
  {
   "cell_type": "code",
   "execution_count": null,
   "metadata": {},
   "outputs": [],
   "source": [
    "print( soup.find_all('p') )\n",
    "print( soup.find_all('p')[0] )\n",
    "print( soup.find_all('p')[1] )\n",
    "print( soup.find_all('p')[2] )"
   ]
  },
  {
   "cell_type": "code",
   "execution_count": 1,
   "metadata": {},
   "outputs": [],
   "source": [
    "#select( ) 함수 사용하기\n",
    "# 연습용 html 만들기\n",
    "ex2='''\n",
    "<html>\n",
    "    <head>\n",
    "        <h1> 사야할 과일\n",
    "    </head>\n",
    "    <body>\n",
    "        <h1> 시장가서 사야할 과일 목록\n",
    "            <div><p id='fruit1' class='name1' title='바나나'> 바나나\n",
    "                <span class='price'> 3000원 </span>\n",
    "                <span class='count'> 10개 </span>\n",
    "                <span class='store'> 바나나가게 </span>\n",
    "                <a href='https://www.banana.com'> banana.com </a>\n",
    "                </p>\n",
    "            </div>\n",
    "             <div><p id='fruit2' class='name2' title='체리'> 체리\n",
    "                <span class='price'> 100원 </span>\n",
    "                <span class='count'> 50개 </span>\n",
    "                <span class='store'> 체리가게 </span>\n",
    "                <a href='https://www.cherry.com'> cherry.com </a>\n",
    "                </p>\n",
    "            </div>\n",
    "             <div><p id='fruit3' class='name3' title='오렌지'> 오렌지\n",
    "                <span class='price'> 500원 </span>\n",
    "                <span class='count'> 20개 </span>\n",
    "                <span class='store'> 오렌지가게 </span>\n",
    "                <a href='https://www.orange.com'> banana.com </a>\n",
    "                </p>\n",
    "            </div>\n",
    "        </body>\n",
    "    </html> '''           "
   ]
  },
  {
   "cell_type": "code",
   "execution_count": 4,
   "metadata": {},
   "outputs": [
    {
     "data": {
      "text/plain": [
       "[<p class=\"name1\" id=\"fruit1\" title=\"바나나\"> 바나나\n",
       "                 <span class=\"price\"> 3000원 </span>\n",
       " <span class=\"count\"> 10개 </span>\n",
       " <span class=\"store\"> 바나나가게 </span>\n",
       " <a href=\"https://www.banana.com\"> banana.com </a>\n",
       " </p>,\n",
       " <p class=\"name2\" id=\"fruit2\" title=\"체리\"> 체리\n",
       "                 <span class=\"price\"> 100원 </span>\n",
       " <span class=\"count\"> 50개 </span>\n",
       " <span class=\"store\"> 체리가게 </span>\n",
       " <a href=\"https://www.cherry.com\"> cherry.com </a>\n",
       " </p>,\n",
       " <p class=\"name3\" id=\"fruit3\" title=\"오렌지\"> 오렌지\n",
       "                 <span class=\"price\"> 500원 </span>\n",
       " <span class=\"count\"> 20개 </span>\n",
       " <span class=\"store\"> 오렌지가게 </span>\n",
       " <a href=\"https://www.orange.com\"> banana.com </a>\n",
       " </p>]"
      ]
     },
     "execution_count": 4,
     "metadata": {},
     "output_type": "execute_result"
    }
   ],
   "source": [
    "# select('태그이름')\n",
    "soup2 = BeautifulSoup(ex2 , 'html.parser')\n",
    "\n",
    "soup2.select('p')"
   ]
  },
  {
   "cell_type": "code",
   "execution_count": null,
   "metadata": {},
   "outputs": [],
   "source": [
    "#select(''.클래스이름')\n",
    "soup2.select(' .name1 ')"
   ]
  },
  {
   "cell_type": "code",
   "execution_count": null,
   "metadata": {},
   "outputs": [],
   "source": [
    "#select(‘ 상위태그 > 하위태그 > 하위태그‘ )\n",
    "soup2.select(' div > p > span')"
   ]
  },
  {
   "cell_type": "code",
   "execution_count": null,
   "metadata": {},
   "outputs": [],
   "source": [
    "#select(‘ 상위태그 > 하위태그 > 하위태그‘ )\n",
    "soup2.select(' div > p > span')[0]"
   ]
  },
  {
   "cell_type": "code",
   "execution_count": null,
   "metadata": {},
   "outputs": [],
   "source": [
    "#select(‘ 상위태그 > 하위태그 > 하위태그‘ )\n",
    "soup2.select(' div > p > span')[1]"
   ]
  },
  {
   "cell_type": "code",
   "execution_count": null,
   "metadata": {},
   "outputs": [],
   "source": [
    "#select(‘ 상위태그 > 하위태그 > 하위태그‘ )\n",
    "soup2.select(' div > p > span')[2]"
   ]
  },
  {
   "cell_type": "code",
   "execution_count": null,
   "metadata": {},
   "outputs": [],
   "source": [
    "# select(‘상위태그.클래스이름 > 하위태그.클래스이름’)\n",
    "soup2.select(' p.name1 > span.store ')"
   ]
  },
  {
   "cell_type": "code",
   "execution_count": null,
   "metadata": {},
   "outputs": [],
   "source": [
    "# select(‘#아이디명”)\n",
    "soup2.select(' #fruit1')"
   ]
  },
  {
   "cell_type": "code",
   "execution_count": null,
   "metadata": {},
   "outputs": [],
   "source": [
    "# select(‘#아이디명 > 태그명.클래스명)\n",
    "soup2.select(' #fruit1 > span.store')"
   ]
  },
  {
   "cell_type": "code",
   "execution_count": null,
   "metadata": {},
   "outputs": [],
   "source": [
    "# select(‘태그명[속성1=값1]’)\n",
    "soup2.select('a[href]')"
   ]
  },
  {
   "cell_type": "code",
   "execution_count": null,
   "metadata": {},
   "outputs": [],
   "source": [
    "# select(‘태그명[속성1=값1]’)\n",
    "soup2.select('a[href]')[0]"
   ]
  },
  {
   "cell_type": "code",
   "execution_count": 5,
   "metadata": {},
   "outputs": [
    {
     "name": "stdout",
     "output_type": "stream",
     "text": [
      " 바나나                 3000원  10개  바나나가게  banana.com \n",
      " 체리                 100원  50개  체리가게  cherry.com \n",
      " 오렌지                 500원  20개  오렌지가게  banana.com \n"
     ]
    }
   ],
   "source": [
    "# 태그 뒤의 텍스트만 추출하기 \n",
    "txt3 = soup2.find_all('p')\n",
    "for i in txt3 :\n",
    "    print(i.get_text().replace('\\n','') )"
   ]
  },
  {
   "cell_type": "code",
   "execution_count": 7,
   "metadata": {},
   "outputs": [
    {
     "name": "stdout",
     "output_type": "stream",
     "text": [
      "<p class=\"name1\" id=\"fruit1\" title=\"바나나\"> 바나나\n",
      "                <span class=\"price\"> 3000원 </span>\n",
      "<span class=\"count\"> 10개 </span>\n",
      "<span class=\"store\"> 바나나가게 </span>\n",
      "<a href=\"https://www.banana.com\"> banana.com </a>\n",
      "</p>\n",
      "<p class=\"name2\" id=\"fruit2\" title=\"체리\"> 체리\n",
      "                <span class=\"price\"> 100원 </span>\n",
      "<span class=\"count\"> 50개 </span>\n",
      "<span class=\"store\"> 체리가게 </span>\n",
      "<a href=\"https://www.cherry.com\"> cherry.com </a>\n",
      "</p>\n",
      "<p class=\"name3\" id=\"fruit3\" title=\"오렌지\"> 오렌지\n",
      "                <span class=\"price\"> 500원 </span>\n",
      "<span class=\"count\"> 20개 </span>\n",
      "<span class=\"store\"> 오렌지가게 </span>\n",
      "<a href=\"https://www.orange.com\"> banana.com </a>\n",
      "</p>\n"
     ]
    }
   ],
   "source": [
    "# 태그 뒤의 텍스트만 추출하기 \n",
    "txt3 = soup2.find_all('p')\n",
    "for i in txt3 :\n",
    "    print(i)"
   ]
  },
  {
   "cell_type": "code",
   "execution_count": null,
   "metadata": {},
   "outputs": [],
   "source": []
  }
 ],
 "metadata": {
  "kernelspec": {
   "display_name": "Python 3 (ipykernel)",
   "language": "python",
   "name": "python3"
  },
  "language_info": {
   "codemirror_mode": {
    "name": "ipython",
    "version": 3
   },
   "file_extension": ".py",
   "mimetype": "text/x-python",
   "name": "python",
   "nbconvert_exporter": "python",
   "pygments_lexer": "ipython3",
   "version": "3.9.5"
  }
 },
 "nbformat": 4,
 "nbformat_minor": 2
}
